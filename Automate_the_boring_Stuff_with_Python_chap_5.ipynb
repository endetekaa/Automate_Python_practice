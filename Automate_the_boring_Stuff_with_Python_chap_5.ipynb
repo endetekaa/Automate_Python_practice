{
  "nbformat": 4,
  "nbformat_minor": 0,
  "metadata": {
    "colab": {
      "provenance": []
    },
    "kernelspec": {
      "name": "python3",
      "display_name": "Python 3"
    },
    "language_info": {
      "name": "python"
    }
  },
  "cells": [
    {
      "cell_type": "code",
      "metadata": {
        "colab": {
          "base_uri": "https://localhost:8080/"
        },
        "id": "heaeS6C9Z1lh",
        "outputId": "c6c1993c-4a4a-499a-eab5-9a4d32e1337e"
      },
      "source": [
        "import random\n",
        "print('Hello. What is your name?')\n",
        "name = input()\n",
        "print('Well ' + name + ', I am thinking of a number between 0 and 20')\n",
        "secretNumber = random.randint(0, 20)\n",
        "\n",
        "for guessesTaken in range(1, 7):\n",
        "  print('Take a guess.')\n",
        "  guess = int(input())\n",
        "\n",
        "  if guess < secretNumber: #both int\n",
        "    print('Your guess is too low.')\n",
        "  elif guess > secretNumber:\n",
        "    print('Your guess is too high.')\n",
        "  else:\n",
        "    break #correct guess\n",
        "\n",
        "if guess == secretNumber:\n",
        "  print('Good job, ' + name + '. You guessed my number in ' + str(guessesTaken) + ' guesses.')\n",
        "else:\n",
        "  print('Nope. The number I was thinking of was ' + str(secretNumber))\n",
        "  print('You took ' + str(guessesTaken) + ' guesses.')\n"
      ],
      "execution_count": null,
      "outputs": [
        {
          "output_type": "stream",
          "text": [
            "Hello. What is your name?\n",
            "K\n",
            "Well K, I am thinking of a number between 0 and 20\n",
            "Take a guess.\n",
            "14\n",
            "Your guess is too high.\n",
            "Take a guess.\n",
            "10\n",
            "Your guess is too high.\n",
            "Take a guess.\n",
            "6\n",
            "Your guess is too high.\n",
            "Take a guess.\n",
            "3\n",
            "Your guess is too high.\n",
            "Take a guess.\n",
            "1\n",
            "Your guess is too high.\n",
            "Take a guess.\n",
            "0\n",
            "Good job, K. You guessed my number in 6 guesses.\n"
          ],
          "name": "stdout"
        }
      ]
    }
  ]
}